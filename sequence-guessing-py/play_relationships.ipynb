{
 "cells": [
  {
   "cell_type": "code",
   "execution_count": 1,
   "metadata": {},
   "outputs": [],
   "source": [
    "from RuleFollowingGame import *"
   ]
  },
  {
   "cell_type": "code",
   "execution_count": 2,
   "metadata": {},
   "outputs": [
    {
     "name": "stdout",
     "output_type": "stream",
     "text": [
      "['bear', 'lion', 'giraffe', 'elephant']\n",
      "Lion must be between Bear and Giraffe; Bear must come before Lion; Giraffe must be between Lion and Elephant; Elephant must come after Giraffe.\n",
      "['lion', 'bear', 'tiger', 'elephant']\n",
      "Elephant must come after Tiger; Bear must be between Lion and Tiger; Tiger must be between Bear and Elephant; Lion must come before Bear.\n"
     ]
    }
   ],
   "source": [
    "# Define the items and their relationships\n",
    "words = ['lion', 'tiger', 'bear', 'elephant', 'giraffe']\n",
    "\n",
    "relationships = generate_4way_relationships(words)\n",
    "for rel in relationships:\n",
    "    print(rel['order'])\n",
    "    print(rel['hint'])\n"
   ]
  }
 ],
 "metadata": {
  "kernelspec": {
   "display_name": "math",
   "language": "python",
   "name": "python3"
  },
  "language_info": {
   "codemirror_mode": {
    "name": "ipython",
    "version": 3
   },
   "file_extension": ".py",
   "mimetype": "text/x-python",
   "name": "python",
   "nbconvert_exporter": "python",
   "pygments_lexer": "ipython3",
   "version": "3.10.12"
  }
 },
 "nbformat": 4,
 "nbformat_minor": 2
}
